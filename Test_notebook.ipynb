{
  "nbformat": 4,
  "nbformat_minor": 0,
  "metadata": {
    "colab": {
      "name": "Test notebook",
      "private_outputs": true,
      "provenance": [],
      "collapsed_sections": [],
      "include_colab_link": true
    },
    "kernelspec": {
      "name": "python3",
      "display_name": "Python 3"
    }
  },
  "cells": [
    {
      "cell_type": "markdown",
      "metadata": {
        "id": "view-in-github",
        "colab_type": "text"
      },
      "source": [
        "<a href=\"https://colab.research.google.com/github/devskills-robot/test-notebook/blob/main/Test_notebook.ipynb\" target=\"_parent\"><img src=\"https://colab.research.google.com/assets/colab-badge.svg\" alt=\"Open In Colab\"/></a>"
      ]
    },
    {
      "cell_type": "code",
      "metadata": {
        "id": "aWyUdx0UopQK"
      },
      "source": [
        "import pandas as pd\n",
        "\n",
        "sample_count = 2000\n",
        "df = pd.io.gbq.read_gbq('''\n",
        "  select year, count(*) as crimes, avg(case when arrest then 1.000 else 0 end) as arrest_rate FROM `bigquery-public-data.chicago_crime.crime` group by 1 order by 3 desc\n",
        "''', project_id='devskills-data', dialect='standard')\n",
        "\n",
        "df.head()"
      ],
      "execution_count": null,
      "outputs": []
    }
  ]
}